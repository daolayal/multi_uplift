{
 "cells": [
  {
   "cell_type": "markdown",
   "metadata": {},
   "source": [
    "# Multiple treatment uplift modeling experiments"
   ]
  },
  {
   "cell_type": "code",
   "execution_count": 1,
   "metadata": {},
   "outputs": [],
   "source": [
    "import os, pandas as pd, numpy as np, matplotlib as mpl, matplotlib.pyplot as plt, seaborn as sns, missingno as msno, statsmodels.api as sm\n",
    "from causalml.inference.tree import UpliftRandomForestClassifier\n",
    "from causalml.metrics import plot_gain\n",
    "from sklearn.externals import joblib\n",
    "from sklearn.model_selection import train_test_split"
   ]
  },
  {
   "cell_type": "code",
   "execution_count": 2,
   "metadata": {},
   "outputs": [],
   "source": [
    "train_list = [\"Train_Fold1.csv\",\"Train_Fold2.csv\",\"Train_Fold3.csv\",\"Train_Fold4.csv\",\"Train_Fold5.csv\"]\n",
    "test_list = [\"Test_Fold1.csv\",\"Test_Fold2.csv\",\"Test_Fold3.csv\",\"Test_Fold4.csv\",\"Test_Fold5.csv\"]\n",
    "train_folds = []\n",
    "test_folds = []\n",
    "for fold in train_list:\n",
    "    train_folds.append(pd.read_csv(fold, sep = ','))\n",
    "for fold in test_list:\n",
    "    test_folds.append(pd.read_csv(fold, sep = ','))"
   ]
  },
  {
   "cell_type": "markdown",
   "metadata": {},
   "source": [
    "### Model elements"
   ]
  },
  {
   "cell_type": "code",
   "execution_count": null,
   "metadata": {},
   "outputs": [],
   "source": [
    "# Hillstrom\n",
    "treatment = \"treat\"\n",
    "target = \"visit\"\n",
    "control = \"CONTROL\"\n",
    "remove_others = [\"TREATMENT1\",\"TREATMENT2\",\"labels\"]\n",
    "remove_others.extend([treatment, target])\n",
    "predictors = [x for x in list(train_folds[0].columns) if x not in remove_others]"
   ]
  },
  {
   "cell_type": "code",
   "execution_count": null,
   "metadata": {},
   "outputs": [],
   "source": [
    "# Gerber\n",
    "treatment = \"treat\"\n",
    "target = \"response\"\n",
    "control = \"control\"\n",
    "predictors = [\"sex\",\"yob\",\"g2000\",\"g2002\",\"p2000\",\"p2002\",\"p2004\",\"hh_size\",\"p2004_mean\",\"g2004_mean\"]\n",
    "for i in list(range(len(train_list))):\n",
    "    train_folds[i][treatment] = train_folds[i][treatment].map({'trt_ Civic Duty':'control','trt_ Self':'Treatment1','trt_ Neighbors':'Treatment2'})\n",
    "    test_folds[i][treatment] = test_folds[i][treatment].map({'trt_ Civic Duty':'control','trt_ Self':'Treatment1','trt_ Neighbors':'Treatment2'})"
   ]
  },
  {
   "cell_type": "code",
   "execution_count": null,
   "metadata": {},
   "outputs": [],
   "source": [
    "# Bank\n",
    "#treatment = \"treat\"\n",
    "#control = \"control\"\n",
    "#target = \"y\"\n",
    "#predictors = [\"age\",\"balance\",\"loan\",\"day\",\"duration\",\"campaign\",\"jobretired\",\"admin\",\"jobservices\",\"maritalmarried\",\"maritalsingle\",\"maritaldivorced\",\"educationsecondary\"]\n",
    "treatment = 'contact'\n",
    "target = 'y'\n",
    "control = \"unknown\" \n",
    "no_predictors = [treatment,target,'contact_unknown','contact_cellular','contact_telephone']\n",
    "predictors = [x for x in list(train_folds[0].columns) if x not in no_predictors]"
   ]
  },
  {
   "cell_type": "code",
   "execution_count": null,
   "metadata": {},
   "outputs": [],
   "source": [
    "# Bladder\n",
    "treatment = \"treat\"\n",
    "control = \"trt_placebo\"\n",
    "target = \"response\"\n",
    "predictors = [\"number\",\"size\",\"start\",\"stop\",\"rtumor\",\"rsize\",\"status\",\"enum\"]"
   ]
  },
  {
   "cell_type": "code",
   "execution_count": null,
   "metadata": {},
   "outputs": [],
   "source": [
    "# Colon1\n",
    "treatment = \"treat\"\n",
    "control = \"trt_Obs\"\n",
    "target = \"response\"\n",
    "predictors = [\"time.x\",\"time.y\",\"sex\",\"age\",\"obstruct\",\"perfor\",\"adhere\",\"nodes\",\"status\",\"differ\",\"extent\",\"surg\",\"node4\"]"
   ]
  },
  {
   "cell_type": "code",
   "execution_count": null,
   "metadata": {},
   "outputs": [],
   "source": [
    "# Colon2\n",
    "treatment = \"treat\"\n",
    "control = \"trt_Obs\"\n",
    "target = \"response\"\n",
    "predictors = [\"time.x\",\"sex\",\"age\",\"obstruct\",\"perfor\",\"adhere\",\"nodes\",\"status\",\"differ\",\"extent\",\"surg\",\"node4\"]"
   ]
  },
  {
   "cell_type": "code",
   "execution_count": null,
   "metadata": {},
   "outputs": [],
   "source": [
    "# AOD\n",
    "treatment = \"treat\"\n",
    "control = \"community\"\n",
    "target = \"suf12\"\n",
    "predictors = [\"illact\",\"crimjust\",\"subprob\",\"subdep\",\"white\"]"
   ]
  },
  {
   "cell_type": "code",
   "execution_count": 3,
   "metadata": {},
   "outputs": [],
   "source": [
    "# Turnover\n",
    "treatment = \"treat\"\n",
    "control = \"control\"\n",
    "target = \"Volturn\"\n",
    "predictors = [\"firmSmall\",\"firmMedium\",\"firmLarge\",\"gender\",\"married\",\"cohabitation\",\"divorced\",\"single\",\"NumberChildren\",\"belgian\",\"Age\",\"Seniority\",\"WorkHomeDistance\",\"consultancy\",\"research\",\"WorkPercentage\",\"SalaryFixed\",\"SalaryOvertime\",\"MealVouchers\",\"Sickness\",\"training\",\"Partner\"]"
   ]
  },
  {
   "cell_type": "markdown",
   "metadata": {},
   "source": [
    "### Multiple treatment uplift models"
   ]
  },
  {
   "cell_type": "code",
   "execution_count": 4,
   "metadata": {},
   "outputs": [],
   "source": [
    "uplift_model = []\n",
    "y_pred = []\n",
    "result = []\n",
    "for i in list(range(len(train_list))):\n",
    "    uplift_model.append(UpliftRandomForestClassifier(n_estimators = 10,evaluationFunction = 'CTS',random_state = 100,control_name=control,max_features = int(round(np.sqrt(len(predictors))))))\n",
    "    uplift_model[i].fit(train_folds[i][predictors].values,treatment = train_folds[i][treatment].values,y = train_folds[i][target].values)\n",
    "    y_pred.append(uplift_model[i].predict(test_folds[i][predictors].values))\n",
    "    result.append(pd.DataFrame(y_pred[i],columns=uplift_model[i].classes_))"
   ]
  },
  {
   "cell_type": "code",
   "execution_count": 11,
   "metadata": {},
   "outputs": [
    {
     "data": {
      "text/plain": [
       "['CTS_rf_results.sav']"
      ]
     },
     "execution_count": 11,
     "metadata": {},
     "output_type": "execute_result"
    }
   ],
   "source": [
    "filename = \"CTS_rf_results.sav\"\n",
    "joblib.dump(result, filename)"
   ]
  },
  {
   "cell_type": "code",
   "execution_count": null,
   "metadata": {},
   "outputs": [],
   "source": [
    "best_treatment = np.where((result < 0).all(axis=1),'CONTROL',result.idxmax(axis=1))\n",
    "actual_is_best = np.where(test_folds[0][treatment] == best_treatment, 1, 0)\n",
    "actual_is_control = np.where(test_folds[0][treatment] == 'CONTROL', 1, 0)\n",
    "synthetic = (actual_is_best == 1) | (actual_is_control == 1)\n",
    "synth = result[synthetic]"
   ]
  },
  {
   "cell_type": "code",
   "execution_count": null,
   "metadata": {},
   "outputs": [],
   "source": [
    "auuc_metrics = (synth.assign(is_treated = 1 - actual_is_control[synthetic],visit = test_folds[0].loc[synthetic, target].values,uplift_tree = synth.max(axis=1)).drop(columns=list(uplift_model.classes_)))"
   ]
  },
  {
   "cell_type": "code",
   "execution_count": null,
   "metadata": {},
   "outputs": [],
   "source": [
    "plot_gain(auuc_metrics, outcome_col=target, treatment_col='is_treated')"
   ]
  },
  {
   "cell_type": "code",
   "execution_count": 3,
   "metadata": {},
   "outputs": [],
   "source": [
    "results = joblib.load(\"/Users/diegoolaya/OneDrive - Vrije Universiteit Brussel/Research/Mulit_uplift_python/Bank/ed_rf_results.sav\")\n",
    "results[0].to_csv(r'/Users/diegoolaya/OneDrive - Vrije Universiteit Brussel/Research/Mulit_uplift_python/Bank/res_F1.csv')\n",
    "results[1].to_csv(r'/Users/diegoolaya/OneDrive - Vrije Universiteit Brussel/Research/Mulit_uplift_python/Bank/res_F2.csv')\n",
    "results[2].to_csv(r'/Users/diegoolaya/OneDrive - Vrije Universiteit Brussel/Research/Mulit_uplift_python/Bank/res_F3.csv')\n",
    "results[3].to_csv(r'/Users/diegoolaya/OneDrive - Vrije Universiteit Brussel/Research/Mulit_uplift_python/Bank/res_F4.csv')\n",
    "results[4].to_csv(r'/Users/diegoolaya/OneDrive - Vrije Universiteit Brussel/Research/Mulit_uplift_python/Bank/res_F5.csv')"
   ]
  },
  {
   "cell_type": "code",
   "execution_count": null,
   "metadata": {},
   "outputs": [],
   "source": [
    "result"
   ]
  }
 ],
 "metadata": {
  "kernelspec": {
   "display_name": "Python 3",
   "language": "python",
   "name": "python3"
  },
  "language_info": {
   "codemirror_mode": {
    "name": "ipython",
    "version": 3
   },
   "file_extension": ".py",
   "mimetype": "text/x-python",
   "name": "python",
   "nbconvert_exporter": "python",
   "pygments_lexer": "ipython3",
   "version": "3.7.3"
  }
 },
 "nbformat": 4,
 "nbformat_minor": 2
}
