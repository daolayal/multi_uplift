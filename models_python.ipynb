{
 "cells": [
  {
   "cell_type": "markdown",
   "metadata": {},
   "source": [
    "# Multiple treatment uplift modeling experiments"
   ]
  },
  {
   "cell_type": "code",
   "execution_count": 1,
   "metadata": {},
   "outputs": [],
   "source": [
    "import os, pandas as pd, numpy as np, matplotlib as mpl, matplotlib.pyplot as plt, seaborn as sns, missingno as msno, statsmodels.api as sm\n",
    "from causalml.inference.tree import UpliftRandomForestClassifier\n",
    "from causalml.metrics import plot_gain\n",
    "from sklearn.externals import joblib\n",
    "from sklearn.model_selection import train_test_split"
   ]
  },
  {
   "cell_type": "code",
   "execution_count": 4,
   "metadata": {},
   "outputs": [],
   "source": [
    "uplift_model = []\n",
    "y_pred = []\n",
    "result = []\n",
    "for i in list(range(len(train_list))):\n",
    "    uplift_model.append(UpliftRandomForestClassifier(n_estimators = 10,evaluationFunction = 'CTS',random_state = 100,control_name=control,max_features = int(round(np.sqrt(len(predictors))))))\n",
    "    uplift_model[i].fit(train_folds[i][predictors].values,treatment = train_folds[i][treatment].values,y = train_folds[i][target].values)\n",
    "    y_pred.append(uplift_model[i].predict(test_folds[i][predictors].values))\n",
    "    result.append(pd.DataFrame(y_pred[i],columns=uplift_model[i].classes_))"
   ]
  },
 ],
 "metadata": {
  "kernelspec": {
   "display_name": "Python 3",
   "language": "python",
   "name": "python3"
  },
  "language_info": {
   "codemirror_mode": {
    "name": "ipython",
    "version": 3
   },
   "file_extension": ".py",
   "mimetype": "text/x-python",
   "name": "python",
   "nbconvert_exporter": "python",
   "pygments_lexer": "ipython3",
   "version": "3.7.3"
  }
 },
 "nbformat": 4,
 "nbformat_minor": 2
}
